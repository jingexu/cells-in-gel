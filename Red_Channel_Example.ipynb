{
 "cells": [
  {
   "cell_type": "markdown",
   "metadata": {},
   "source": [
    "# Python Notebook Demonstrating Red Channel (a-SMA) Processing\n",
    "\n",
    "Here, we detail an example of using our developed modules to process in batch our red channel images.\n",
    "We begin by importing a number of packages that are required. Namely, we need to import the standard functions, such as NumPy, Pandas, Matplotlib. Additionally, we need to import modules from our cells_in_gel package and some skimage functions to ensure that our functions work."
   ]
  },
  {
   "cell_type": "code",
   "execution_count": null,
   "metadata": {},
   "outputs": [],
   "source": [
    "import numpy as np\n",
    "import pandas as pd\n",
    "import matplotlib.pyplot as plt\n",
    "import os\n",
    "\n",
    "from skimage import io\n",
    "from skimage.measure import regionprops, regionprops_table\n",
    "from skimage.morphology import disk\n",
    "\n",
    "from cells_in_gel import preprocess as pp\n",
    "from cells_in_gel import properties as props\n",
    "from cells_in_gel import batch"
   ]
  },
  {
   "cell_type": "markdown",
   "metadata": {},
   "source": [
    "We next create a list of our images using the preprocessing function `list_of_images` and create a dict of max projections using the batch function `max_projection` as we would like to keep our image titles as keys associated with their respective images."
   ]
  },
  {
   "cell_type": "code",
   "execution_count": null,
   "metadata": {},
   "outputs": [],
   "source": [
    "path = '$$$$PATHNAME HERE$$$$' #change with pathname.\n",
    "files = pp.list_of_images('C4', path)"
   ]
  },
  {
   "cell_type": "code",
   "execution_count": null,
   "metadata": {},
   "outputs": [],
   "source": [
    "max_proj = batch.max_projection(files)"
   ]
  },
  {
   "cell_type": "markdown",
   "metadata": {},
   "source": [
    "Next, we utilize the preprocessing function `SMA_segment` to segment and create labels of our red channel, a functional similar to `phalloidin_segment` but with specific presets for the red channel. These labels can be then used as inputs to the properties function `im_properties` to create a regionprops table. "
   ]
  },
  {
   "cell_type": "code",
   "execution_count": null,
   "metadata": {},
   "outputs": [],
   "source": [
    "labels = {}\n",
    "overlay = {}\n",
    "regions = {}\n",
    "   \n",
    "for file in files:\n",
    "    labels[file], overlay[file] = pp.SMA_segment(max_proj[file])\n",
    "\n",
    "for file in files:   \n",
    "    regions[file] = props.im_properties(labels[file], max_proj[file])"
   ]
  },
  {
   "cell_type": "markdown",
   "metadata": {},
   "source": [
    "Let's print the regions table to make sure we've gotten what we want. Here, we can see that our code has segemented each \"SMA\" blob into its own blob and has taken values specified by the function. Here, we are mainly interested in mean_intensity, so we will disregard the other values as we progress."
   ]
  },
  {
   "cell_type": "code",
   "execution_count": null,
   "metadata": {},
   "outputs": [],
   "source": [
    "print(regions[files[0]].head())"
   ]
  },
  {
   "cell_type": "markdown",
   "metadata": {},
   "source": [
    "We then proceed to calculate the average mean intensity and standard deviations for each max projection, again making new dicts to ensure that we still have the image titles as the keys."
   ]
  },
  {
   "cell_type": "code",
   "execution_count": null,
   "metadata": {},
   "outputs": [],
   "source": [
    "avg_props = {}\n",
    "var_props = {}\n",
    "\n",
    "for file in files:\n",
    "    avg_props[file] = np.mean(regions[file]['mean_intensity'])\n",
    "    var_props[file] = np.std(regions[file]['mean_intensity'])"
   ]
  },
  {
   "cell_type": "markdown",
   "metadata": {},
   "source": [
    "We can see that our function worked, and that calling on the first image of the dictionary, we see that image has an average intensity value of 2418.62."
   ]
  },
  {
   "cell_type": "code",
   "execution_count": null,
   "metadata": {},
   "outputs": [],
   "source": [
    "print(avg_props[files[0]])"
   ]
  },
  {
   "cell_type": "markdown",
   "metadata": {},
   "source": [
    "Next, we call upon our `mergeDict` function from the batch file to merge the two dictionaries to make a summary dict which is then converted to an array called summary. But we have an issue! The image titles are now column titles, which is not what we desire."
   ]
  },
  {
   "cell_type": "code",
   "execution_count": null,
   "metadata": {},
   "outputs": [],
   "source": [
    "summary = pd.DataFrame.from_dict(batch.mergeDict(var_props, avg_props))\n",
    "summary.head()"
   ]
  },
  {
   "cell_type": "markdown",
   "metadata": {},
   "source": [
    "So we transpose our array, and label the columns, and while we're at it also change the name of the index."
   ]
  },
  {
   "cell_type": "code",
   "execution_count": null,
   "metadata": {},
   "outputs": [],
   "source": [
    "summary = summary.transpose()\n",
    "summary.columns = ['Mean Intensity', 'Standard Deviation']"
   ]
  },
  {
   "cell_type": "code",
   "execution_count": null,
   "metadata": {},
   "outputs": [],
   "source": [
    "summary.index.name = 'type of cells'"
   ]
  },
  {
   "cell_type": "code",
   "execution_count": null,
   "metadata": {},
   "outputs": [],
   "source": [
    "summary = summary.reset_index()\n",
    "summary.head()"
   ]
  },
  {
   "cell_type": "markdown",
   "metadata": {},
   "source": [
    "Now we have all of our information, yet our cell names are not great. We need to extract the information from the files such as Fibroblast and ECM genotype, Concentrations of ECM and RGD. To do this, we import the `re` package from python to split the strings located in the column \"*type of cells*\". This part is a bit complex, and highly depends on how you choose to label your files. Ideally if I were to do this, I would label all my tif files as such:\n",
    "\n",
    "Channel#_FibroblastGenotype_ECMGenotype_ECMConcentration_RGDConcentration_Magnification_SampleNumber.\n",
    "\n",
    "i.e. a file would be named as such: **C4_I61QTTA-CFbs_NTG_5_1mM_20x_002.tif** and we would break it at every '_'.\n",
    "\n",
    "***However, our labmate had a bit of a weirder filing system, so hence there is a lot of splitting of strings***. His are labelled as such: **C4-I61QTTA-CFbs_NTG5ECM_1mMRGD_20x_002.tif**, which is fine for looking at files, but not so much for a consistent pattern of delimiters."
   ]
  },
  {
   "cell_type": "code",
   "execution_count": null,
   "metadata": {},
   "outputs": [],
   "source": [
    "import re"
   ]
  },
  {
   "cell_type": "code",
   "execution_count": null,
   "metadata": {},
   "outputs": [],
   "source": [
    "copymod = summary.copy()\n",
    "copymod['Fibroblast Genotype'] = \"d\"\n",
    "copymod['ECM Genotype'] = \"d\"\n",
    "copymod['ECM Concentration mg/mL'] = \"d\"\n",
    "copymod['RGD Concentration mM'] =\"d\"\n",
    "\n",
    "\"\"\"HIGHLY DEPENDENT ON HOW YOU LABEL YOUR FILES AND WHAT MICE YOU ARE USING.\n",
    "    We need to break apart file name to label the columns properly so we can sort later.\n",
    "    File name structure in this case: C4-FibroblastGenotype_ECMGenotypeAndConcentration_RGDConcentration\n",
    "    deletes the rest of the path name.\"\"\"\n",
    "\n",
    "for i, row in enumerate(summary['type of cells']):\n",
    "    mod = re.split('C4-|_20x', row)   #Deletes everything aside from FGenotype_ECMGenotypeConc_RGDConc\n",
    "    newmod = re.split('_|mM', mod[1]) #splits string at _ and mM\n",
    "    genotype = re.split('(\\d+)ECM',newmod[1]) #further splits second string of newmod to get the genotype of ECM by splitting at case of # and ECM\n",
    "    concentration = re.split('[QG]|ECM', newmod[1]) #Splits newmod at instance of Q or G AND before ECM to get the number in between\n",
    "    \n",
    "    copymod['type of cells'].iat[i] = mod[1] #assigning strings to columns.\n",
    "    copymod['Fibroblast Genotype'].iat[i] = newmod[0]\n",
    "    copymod['ECM Genotype'].iat[i] = genotype[0]\n",
    "    copymod['ECM Concentration mg/mL'].iat[i] = concentration[1]\n",
    "    copymod['RGD Concentration mM'].iat[i] = newmod[2]\n",
    "    \n",
    "copymod['ECM Concentration mg/mL'].iat[4] = 0  #This is unfortunately an exception in how the files were labelled."
   ]
  },
  {
   "cell_type": "markdown",
   "metadata": {},
   "source": [
    "Let's check out our final table:"
   ]
  },
  {
   "cell_type": "code",
   "execution_count": null,
   "metadata": {
    "scrolled": false
   },
   "outputs": [],
   "source": [
    "copymod"
   ]
  },
  {
   "cell_type": "markdown",
   "metadata": {},
   "source": [
    "Now it's time to graph our results using the groupby functionality! Since this data set has a lot of types of samples, but very little repetition of experiments. Here, I grouped by all the possible combinations."
   ]
  },
  {
   "cell_type": "code",
   "execution_count": null,
   "metadata": {},
   "outputs": [],
   "source": [
    "pretty = copymod.groupby(['Fibroblast Genotype','ECM Genotype','ECM Concentration mg/mL' ,'RGD Concentration mM' ]).mean().unstack(fill_value=0)\n",
    "fibroblasts = pretty.groupby(['Fibroblast Genotype'])\n",
    "\n",
    "errors = copymod.groupby(['Fibroblast Genotype', 'ECM Genotype', 'ECM Concentration mg/mL', 'RGD Concentration mM']).std().unstack(fill_value =0)\n",
    "\n",
    "fibroblasts.plot.bar(y = ['Mean Intensity'], yerr = errors, capsize = 3)\n",
    "plt.xlabel('Cell Type', size =15)\n",
    "plt.ylabel('Mean Intensity', size = 15)\n",
    "plt.legend([\"0mM RGD\",\"1mM RGD\"])\n",
    "plt.show()"
   ]
  },
  {
   "cell_type": "markdown",
   "metadata": {},
   "source": [
    "But say I just want to look at how the different fibroblast populations responded to the RGD concentrations and disregard the rest, I could group my data this way as well."
   ]
  },
  {
   "cell_type": "code",
   "execution_count": null,
   "metadata": {},
   "outputs": [],
   "source": [
    "pretty2 = copymod.groupby(['Fibroblast Genotype','RGD Concentration mM' ]).mean().unstack(fill_value=0)\n",
    "errors2 = copymod.groupby(['Fibroblast Genotype', 'RGD Concentration mM']).std().unstack(fill_value =0)\n",
    "ax = pretty2.plot.bar(y = ['Mean Intensity'], yerr = errors2, capsize = 3)\n",
    "plt.xlabel('Cell Type', size =15)\n",
    "plt.ylabel('Mean Intensity', size = 15)\n",
    "ax.legend([\"O mM RGD\", \"1 mM RGD\"])\n",
    "plt.show()"
   ]
  },
  {
   "cell_type": "code",
   "execution_count": null,
   "metadata": {},
   "outputs": [],
   "source": []
  }
 ],
 "metadata": {
  "kernelspec": {
   "display_name": "Python 3",
   "language": "python",
   "name": "python3"
  },
  "language_info": {
   "codemirror_mode": {
    "name": "ipython",
    "version": 3
   },
   "file_extension": ".py",
   "mimetype": "text/x-python",
   "name": "python",
   "nbconvert_exporter": "python",
   "pygments_lexer": "ipython3",
   "version": "3.7.4"
  }
 },
 "nbformat": 4,
 "nbformat_minor": 4
}
