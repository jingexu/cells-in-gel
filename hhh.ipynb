this is a test ipynb from jinge
