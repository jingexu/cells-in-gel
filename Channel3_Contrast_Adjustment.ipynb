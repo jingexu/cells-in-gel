{
 "cells": [
  {
   "cell_type": "code",
   "execution_count": null,
   "metadata": {},
   "outputs": [],
   "source": [
    "import matplotlib.pyplot as plt\n",
    "import numpy as np\n",
    "from skimage import io\n",
    "from skimage.util import img_as_float, img_as_ubyte\n",
    "from skimage.exposure import equalize_hist, adjust_sigmoid\n",
    "from skimage.filters import rank, threshold_otsu\n",
    "from skimage.morphology import square"
   ]
  },
  {
   "cell_type": "markdown",
   "metadata": {},
   "source": [
    "## Filters to remove background and improve contrast"
   ]
  },
  {
   "cell_type": "code",
   "execution_count": null,
   "metadata": {},
   "outputs": [],
   "source": [
    "# original image\n",
    "im_ch3 = img_as_float(io.imread('..\\C3-NTG-CFbs_NTG5ECM_1mMRGD_20x_003.tif'))\n",
    "\n",
    "#equalized histogram\n",
    "im_ch3_eq = img_as_ubyte(equalize_hist(im_ch3, nbins=256))\n",
    "\n",
    "# median and mean averaging filters\n",
    "selem = square(10)\n",
    "im_ch3_med = rank.median(im_ch3_eq[12], selem)\n",
    "im_ch3_mean = rank.mean(im_ch3_eq[12], selem)\n",
    "\n",
    "# localized enhancement\n",
    "im_ch3_le = img_as_float(rank.equalize(im_ch3[12], selem=selem))\n",
    "\n",
    "# contrast adjustment\n",
    "im_ch3_sig = adjust_sigmoid(im_ch3[12], cutoff=0, gain=100, inv=False)\n",
    "\n",
    "# contrast adjustment + median filter\n",
    "im_ch3_sig_med = rank.median(im_ch3_sig, selem)\n",
    "\n",
    "# plotting\n",
    "fig, ax = plt.subplots(ncols=3, nrows=3, figsize=(15, 15))\n",
    "\n",
    "ax[0,0].imshow(im_ch3[12], cmap='magma')\n",
    "ax[0,0].set_title('Original')\n",
    "\n",
    "ax[0,1].imshow(im_ch3_eq[12], cmap='magma')\n",
    "ax[0,1].set_title('Equalized Histogram')\n",
    "\n",
    "ax[0,2].imshow(im_ch3_med, cmap='magma')\n",
    "ax[0,2].set_title('Median Filter')\n",
    "\n",
    "ax[1,0].imshow(im_ch3_mean, cmap='magma')\n",
    "ax[1,0].set_title('Mean Filter')\n",
    "\n",
    "ax[1,1].imshow(im_ch3_le, cmap='magma')\n",
    "ax[1,1].set_title('Localized Enhancement')\n",
    "\n",
    "ax[1,2].imshow(im_ch3_sig, cmap='magma')\n",
    "ax[1,2].set_title('Contrast Adjustment')\n",
    "\n",
    "ax[2,0].imshow(im_ch3_sig_med, cmap='magma')\n",
    "ax[2,0].set_title('Contrast Adjustment + Median Filter')"
   ]
  },
  {
   "cell_type": "markdown",
   "metadata": {},
   "source": [
    "## Histograms of methods used above"
   ]
  },
  {
   "cell_type": "code",
   "execution_count": null,
   "metadata": {},
   "outputs": [],
   "source": [
    "# histograms from various methods\n",
    "hist1, bins1 = np.histogram(im_ch3[12], bins=np.linspace(0, 1, 100))\n",
    "hist2, bins2 = np.histogram(img_as_float(im_ch3_eq[12]), bins=np.linspace(0, 1, 100))\n",
    "hist3, bins3 = np.histogram(img_as_float(im_ch3_med), bins=np.linspace(0, 1, 100))\n",
    "hist4, bins4 = np.histogram(img_as_float(im_ch3_mean), bins=np.linspace(0, 1, 100))\n",
    "hist5, bins5 = np.histogram(img_as_float(im_ch3_le), bins=np.linspace(0, 1, 100))\n",
    "hist6, bins6 = np.histogram(img_as_float(im_ch3_sig), bins=np.linspace(0, 1, 100))\n",
    "hist7, bins7 = np.histogram(img_as_float(im_ch3_sig_med), bins=np.linspace(0, 1, 100))\n",
    "\n",
    "# plotting\n",
    "fig, ax = plt.subplots(ncols=3, nrows=3, figsize=(15,15))\n",
    "\n",
    "ax[0,0].bar(bins1[:-1], hist1/512**2, width=0.005)\n",
    "ax[0,0].set_title('Original')\n",
    "\n",
    "ax[0,1].bar(bins2[:-1], hist2/512**2, width=0.005)\n",
    "ax[0,1].set_title('Equalized Histogram')\n",
    "\n",
    "ax[0,2].bar(bins3[:-1], hist3/512**2, width=0.005)\n",
    "ax[0,2].set_title('Median Filter')\n",
    "\n",
    "ax[1,0].bar(bins4[:-1], hist4/512**2, width=0.005)\n",
    "ax[1,0].set_title('Mean Filter')\n",
    "\n",
    "ax[1,1].bar(bins5[:-1], hist5/512**2, width=0.005)\n",
    "ax[1,1].set_title('Localized Enhancement')\n",
    "\n",
    "ax[1,2].bar(bins6[:-1], hist6/512**2, width=0.005)\n",
    "ax[1,2].set_title('Contrast Adjustment')\n",
    "\n",
    "ax[2,0].bar(bins7[:-1], hist7/512**2, width=0.005)\n",
    "ax[2,0].set_title('Contrast Adjustment + Median Filter')"
   ]
  },
  {
   "cell_type": "code",
   "execution_count": null,
   "metadata": {},
   "outputs": [],
   "source": []
  }
 ],
 "metadata": {
  "kernelspec": {
   "display_name": "Python 3",
   "language": "python",
   "name": "python3"
  },
  "language_info": {
   "codemirror_mode": {
    "name": "ipython",
    "version": 3
   },
   "file_extension": ".py",
   "mimetype": "text/x-python",
   "name": "python",
   "nbconvert_exporter": "python",
   "pygments_lexer": "ipython3",
   "version": "3.7.3"
  }
 },
 "nbformat": 4,
 "nbformat_minor": 4
}
