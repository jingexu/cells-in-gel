{
 "cells": [
  {
   "cell_type": "markdown",
   "metadata": {},
   "source": [
    "# Notebook Describing Z Stack Linking Functionalities\n",
    "This is very much a work in progress. Here, we describe our initial attempts at 3D visualization of a stack of images.\n",
    "This will be a future direction.\n",
    "\n",
    "We begin by importing functions such as NumPy, Pandas and skimage, as well as our functions from the modules `preprocess`, `properties` and `zstack`."
   ]
  },
  {
   "cell_type": "code",
   "execution_count": null,
   "metadata": {},
   "outputs": [],
   "source": [
    "import numpy as np\n",
    "import matplotlib.pyplot as plt\n",
    "\n",
    "from skimage import io\n",
    "from skimage.measure import regionprops, regionprops_table\n",
    "import pandas as pd\n",
    "\n",
    "import cells_in_gel.preprocess as prep\n",
    "import cells_in_gel.properties as props\n",
    "from cells_in_gel.properties import im_properties\n",
    "import cells_in_gel.zstack as z"
   ]
  },
  {
   "cell_type": "markdown",
   "metadata": {},
   "source": [
    "We import our image stack from a file saved in the same folder. Later, this will be optimized to do in much higher throughput as our other examples, however, 3D visualizing one image takes a lot of time."
   ]
  },
  {
   "cell_type": "code",
   "execution_count": null,
   "metadata": {},
   "outputs": [],
   "source": [
    "im_stack = io.imread('C3-NTG-CFbs_NTG5ECM_1mMRGD_20x_003.tif')"
   ]
  },
  {
   "cell_type": "markdown",
   "metadata": {},
   "source": [
    "We then create our label array that will be filled in with our `phalloidin_labeled` function, which segments and labels each cell in each z slice of the z stack."
   ]
  },
  {
   "cell_type": "code",
   "execution_count": null,
   "metadata": {},
   "outputs": [],
   "source": [
    "x, y, z = im_stack.shape # dimensions of the image stack\n",
    "label_stack = np.zeros_like(im_stack) # create empty array for label"
   ]
  },
  {
   "cell_type": "code",
   "execution_count": null,
   "metadata": {
    "scrolled": true
   },
   "outputs": [],
   "source": [
    "for i in range(x):\n",
    "    label_stack[i] = prep.phalloidin_labeled(im_stack[i])"
   ]
  },
  {
   "cell_type": "markdown",
   "metadata": {},
   "source": [
    "We can see that as we scroll through the output of the `phalloidin_labeled`, that the colors don't always match up between cells,  i.e. in each slice it is labeling the same cell differently."
   ]
  },
  {
   "cell_type": "markdown",
   "metadata": {},
   "source": [
    "If we make a data frame of the labels using `im_properties`, we can see that there are over 1000 entries, as each cell, even as it progresses through the z stack,  is being counted as a separate entity."
   ]
  },
  {
   "cell_type": "code",
   "execution_count": null,
   "metadata": {},
   "outputs": [],
   "source": [
    "frames = []\n",
    "\n",
    "#Create data frame called frames that has the image number labelled.\n",
    "for i in range(len(label_stack)):\n",
    "    frames.append(props.im_properties(label_stack[i], im_stack[i]))\n",
    "    frames[i]['Image number'] = i\n",
    "\n",
    "    #concatenate all the data into one big data frame\n",
    "df = pd.concat(frames)"
   ]
  },
  {
   "cell_type": "markdown",
   "metadata": {},
   "source": [
    "We call upon the `zlink` function and it identifies which cells are the same across the vertical slices and groups them together as one cell."
   ]
  },
  {
   "cell_type": "code",
   "execution_count": null,
   "metadata": {},
   "outputs": [],
   "source": [
    "dfnew = z.zlink(df)"
   ]
  },
  {
   "cell_type": "code",
   "execution_count": null,
   "metadata": {},
   "outputs": [],
   "source": [
    "dfnew.head()"
   ]
  },
  {
   "cell_type": "markdown",
   "metadata": {},
   "source": [
    "If we call `dfnew['cell'].max()` we see that it = 156, meaning there are 156 individual cells in this z stack."
   ]
  },
  {
   "cell_type": "markdown",
   "metadata": {},
   "source": [
    "Since we now have the center points (centroid 0 and centroid 1), we wanted to use these as seed values in a script to region grow those points into a full volume as the algorithm progresses through a z stack. To do this, we wanted to follow [this method](http://notmatthancock.github.io/2017/10/09/region-growing-wrapping-c.html). We needed to install and import mayavi and mlab. Additionally other things had to be installed to ensure this could run in jupyter notebooks, as detailed [here](https://docs.enthought.com/mayavi/mayavi/installation.html)."
   ]
  },
  {
   "cell_type": "code",
   "execution_count": null,
   "metadata": {},
   "outputs": [],
   "source": [
    "import mayavi\n",
    "from mayavi import mlab\n",
    "mlab.init_notebook()"
   ]
  },
  {
   "cell_type": "markdown",
   "metadata": {},
   "source": [
    "As a first proof of concept, we tried to plot the centroids of the cells as points, which worked:"
   ]
  },
  {
   "cell_type": "code",
   "execution_count": null,
   "metadata": {
    "scrolled": false
   },
   "outputs": [],
   "source": [
    "mlab.clf()\n",
    "mlab.points3d(dfnew['centroid-0'], dfnew['centroid-1'], dfnew['Image number'], scale_factor = 20)"
   ]
  },
  {
   "cell_type": "markdown",
   "metadata": {},
   "source": [
    "As a next proof of concept, we made a massive dataframe with all the coordinates from all the im_properties of every z slice, but this seemed to crash mayavi. So.. Still a work a progress."
   ]
  },
  {
   "cell_type": "code",
   "execution_count": null,
   "metadata": {},
   "outputs": [],
   "source": [
    "new_df = np.vstack(dfnew['coords'])"
   ]
  },
  {
   "cell_type": "code",
   "execution_count": null,
   "metadata": {},
   "outputs": [],
   "source": [
    "lens = [len(item) for item in dfnew['coords']]\n",
    "len(lens)\n",
    "df_out = pd.DataFrame({\"Image number\" : np.repeat(dfnew['Image number'].values,lens), \n",
    "               \"coords x\" : list(zip(*new_df))[0],\n",
    "                      \"coords y\":list(zip(*new_df))[1]})\n"
   ]
  },
  {
   "cell_type": "code",
   "execution_count": null,
   "metadata": {},
   "outputs": [],
   "source": [
    "mlab.clf()\n",
    "mlab.points3d(df_out['coords x'], df_out['coords y'], df_out['Image number'], scale_factor = 20)"
   ]
  }
 ],
 "metadata": {
  "kernelspec": {
   "display_name": "Python 3",
   "language": "python",
   "name": "python3"
  },
  "language_info": {
   "codemirror_mode": {
    "name": "ipython",
    "version": 3
   },
   "file_extension": ".py",
   "mimetype": "text/x-python",
   "name": "python",
   "nbconvert_exporter": "python",
   "pygments_lexer": "ipython3",
   "version": "3.7.4"
  }
 },
 "nbformat": 4,
 "nbformat_minor": 4
}
