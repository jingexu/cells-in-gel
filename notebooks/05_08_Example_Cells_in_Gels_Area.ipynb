{
 "cells": [
  {
   "cell_type": "markdown",
   "metadata": {},
   "source": [
    "# Example of using `cells_in_gel` in early stages :) "
   ]
  },
  {
   "cell_type": "markdown",
   "metadata": {},
   "source": [
    "## Imports"
   ]
  },
  {
   "cell_type": "code",
   "execution_count": null,
   "metadata": {},
   "outputs": [],
   "source": [
    "import matplotlib.pyplot as plt\n",
    "import pandas as pd\n",
    "import numpy as np\n",
    "\n",
    "from skimage import io\n",
    "\n",
    "from cells_in_gel import preprocess as pp\n",
    "from cells_in_gel import properties as props"
   ]
  },
  {
   "cell_type": "markdown",
   "metadata": {},
   "source": [
    "## Load Image\n",
    "\n",
    "Load a stack or single fluorescence microcopy image from the phalloidin 488 channel. If you have a stack of images, it is helpful to use `io.imread` and call a specific stack within the stack as shown below."
   ]
  },
  {
   "cell_type": "code",
   "execution_count": null,
   "metadata": {},
   "outputs": [],
   "source": [
    "im_stack = io.imread('C3-NTG-CFbs_NTG5ECM_1mMRGD_20x_003.tif')\n",
    "im = im_stack[10] # image 10 from the stack"
   ]
  },
  {
   "cell_type": "markdown",
   "metadata": {},
   "source": [
    "## Segmentation\n",
    "\n",
    "The `cells_in_gell.preprocess.phalloidin_488_segment` function binarizes your image and identifies objects within the image as well. The `min_size` feature allows removal of objects within a specified size. The `label` returns a labeled image while `overlay` returns an overlay of identified objects."
   ]
  },
  {
   "cell_type": "code",
   "execution_count": null,
   "metadata": {},
   "outputs": [],
   "source": [
    "label, overlay = pp.phalloidin_488_segment(im, min_size=350)"
   ]
  },
  {
   "cell_type": "markdown",
   "metadata": {},
   "source": [
    "Plotting the original image next to the overlayed image shows the binarization and object identification."
   ]
  },
  {
   "cell_type": "code",
   "execution_count": null,
   "metadata": {
    "scrolled": false
   },
   "outputs": [],
   "source": [
    "fig, axes = plt.subplots(ncols=2, figsize=(12, 7))\n",
    "\n",
    "axes[0].imshow(im, cmap='gray')\n",
    "axes[0].set_title('Original', fontsize='20')\n",
    "\n",
    "axes[1].imshow(overlay, cmap='gray')\n",
    "axes[1].set_title('Overlay of Objects', fontsize='20')\n",
    "\n",
    "for ax in axes:\n",
    "    ax.axis('off')"
   ]
  },
  {
   "cell_type": "markdown",
   "metadata": {},
   "source": [
    "## Properties\n",
    "\n",
    "Extracting properties from objects in the image such as area, eccentricity, extent, coordinates, etc. can be done using the `cells_in_gels.properties.im_properties` function. The input calls for the labeled image we created in the segmentation section and the orignal image shown below. "
   ]
  },
  {
   "cell_type": "code",
   "execution_count": null,
   "metadata": {},
   "outputs": [],
   "source": [
    "regions = props.im_properties(label, im)"
   ]
  },
  {
   "cell_type": "markdown",
   "metadata": {},
   "source": [
    "Here is what the pandas dataframe looks like!"
   ]
  },
  {
   "cell_type": "code",
   "execution_count": null,
   "metadata": {},
   "outputs": [],
   "source": [
    "regions.head()"
   ]
  },
  {
   "cell_type": "markdown",
   "metadata": {},
   "source": [
    "If you wish to see a distribution of various properties in the image, simply plot a histogram as shown below."
   ]
  },
  {
   "cell_type": "code",
   "execution_count": null,
   "metadata": {},
   "outputs": [],
   "source": [
    "regions.hist(column='area')"
   ]
  },
  {
   "cell_type": "markdown",
   "metadata": {},
   "source": [
    "The total area of this channel can also be calculated using the sum feature."
   ]
  },
  {
   "cell_type": "code",
   "execution_count": null,
   "metadata": {},
   "outputs": [],
   "source": [
    "total_phalloidin = sum(regions.area)\n",
    "total_phalloidin"
   ]
  },
  {
   "cell_type": "markdown",
   "metadata": {},
   "source": [
    "## Multiple Images\n",
    "\n",
    "It might also be useful to perform these operations on mutliple images and determine region areas of the entire stack. First, find the dimensions of your stack, and create empty arrays for the lable and overlay images.  "
   ]
  },
  {
   "cell_type": "code",
   "execution_count": null,
   "metadata": {},
   "outputs": [],
   "source": [
    "im_stack = io.imread('C3-NTG-CFbs_NTG5ECM_1mMRGD_20x_003.tif')\n",
    "im = im_stack[10] # image 10 from the stack\n",
    "\n",
    "label, overlay = pp.phalloidin_488_segment(im, min_size=350)"
   ]
  },
  {
   "cell_type": "code",
   "execution_count": null,
   "metadata": {},
   "outputs": [],
   "source": [
    "x, y, z = im_stack.shape # dimensions of the image stack\n",
    "label_stack = np.zeros_like(im_stack) # create emtpy array for label\n",
    "overlay_stack = np.zeros((x, y, z, 3)) # create emtpy array for overlay"
   ]
  },
  {
   "cell_type": "markdown",
   "metadata": {},
   "source": [
    "Apply the `cells_in_gel.preprocessing.phalloidin_488_segment` function to the stack. "
   ]
  },
  {
   "cell_type": "code",
   "execution_count": null,
   "metadata": {},
   "outputs": [],
   "source": [
    "for i in range(x):\n",
    "    label_stack[i], overlay_stack[i] = pp.phalloidin_488_segment(im_stack[i], min_size=350)"
   ]
  },
  {
   "cell_type": "markdown",
   "metadata": {},
   "source": [
    "Plot a slice of the original image and the overlay of objects to see if it worked!"
   ]
  },
  {
   "cell_type": "code",
   "execution_count": null,
   "metadata": {},
   "outputs": [],
   "source": [
    "# slice 1\n",
    "fig, axes = plt.subplots(ncols=2, figsize=(12, 7))\n",
    "\n",
    "axes[0].imshow(im_stack[1], cmap='gray')\n",
    "axes[0].set_title('Original', fontsize='20')\n",
    "\n",
    "axes[1].imshow(overlay_stack[1], cmap='gray')\n",
    "axes[1].set_title('Overlay of Objects', fontsize='20')\n",
    "\n",
    "for ax in axes:\n",
    "    ax.axis('off')"
   ]
  },
  {
   "cell_type": "markdown",
   "metadata": {},
   "source": [
    "Now create an emtpy dictionary to collect dataframes for each image slice. "
   ]
  },
  {
   "cell_type": "code",
   "execution_count": null,
   "metadata": {},
   "outputs": [],
   "source": [
    "frames = {}\n",
    "groups = [i for i in range(x)]"
   ]
  },
  {
   "cell_type": "markdown",
   "metadata": {},
   "source": [
    "Apply the `cells_in_gel.properties.im_properties` function to the entire stack. "
   ]
  },
  {
   "cell_type": "code",
   "execution_count": null,
   "metadata": {},
   "outputs": [],
   "source": [
    "for grp in groups:\n",
    "    frames[grp] = props.im_properties(label_stack[grp], im_stack[grp])"
   ]
  },
  {
   "cell_type": "markdown",
   "metadata": {},
   "source": [
    "Take a look at one of the slice dataframes to check it out!"
   ]
  },
  {
   "cell_type": "code",
   "execution_count": null,
   "metadata": {},
   "outputs": [],
   "source": [
    "frames[0].head()"
   ]
  },
  {
   "cell_type": "markdown",
   "metadata": {},
   "source": [
    "Now sum the total area for each slice in the stack and place into a new pandas dataframe named `area_stack`."
   ]
  },
  {
   "cell_type": "code",
   "execution_count": null,
   "metadata": {},
   "outputs": [],
   "source": [
    "total_area = np.zeros(x)\n",
    "\n",
    "for grp in groups:\n",
    "    total_area[grp] = sum(frames[grp].area)"
   ]
  },
  {
   "cell_type": "code",
   "execution_count": null,
   "metadata": {},
   "outputs": [],
   "source": [
    "area_stack = pd.DataFrame(total_area, groups)"
   ]
  },
  {
   "cell_type": "code",
   "execution_count": null,
   "metadata": {},
   "outputs": [],
   "source": [
    "area_stack.rename(columns={0: \"Area\"})"
   ]
  },
  {
   "cell_type": "markdown",
   "metadata": {},
   "source": [
    "Woohoo!! There you have it! :) Area of objects in each slice."
   ]
  },
  {
   "cell_type": "code",
   "execution_count": null,
   "metadata": {},
   "outputs": [],
   "source": []
  }
 ],
 "metadata": {
  "kernelspec": {
   "display_name": "Python 3",
   "language": "python",
   "name": "python3"
  },
  "language_info": {
   "codemirror_mode": {
    "name": "ipython",
    "version": 3
   },
   "file_extension": ".py",
   "mimetype": "text/x-python",
   "name": "python",
   "nbconvert_exporter": "python",
   "pygments_lexer": "ipython3",
   "version": "3.7.3"
  }
 },
 "nbformat": 4,
 "nbformat_minor": 4
}
