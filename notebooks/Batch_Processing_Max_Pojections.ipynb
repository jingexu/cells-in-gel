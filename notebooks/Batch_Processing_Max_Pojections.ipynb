{
 "cells": [
  {
   "cell_type": "markdown",
   "metadata": {},
   "source": [
    "# Example of using `cells_in_gel`"
   ]
  },
  {
   "cell_type": "markdown",
   "metadata": {},
   "source": [
    "## Imports"
   ]
  },
  {
   "cell_type": "code",
   "execution_count": null,
   "metadata": {},
   "outputs": [],
   "source": [
    "import matplotlib.pyplot as plt\n",
    "import matplotlib\n",
    "import pandas as pd\n",
    "import numpy as np\n",
    "import glob\n",
    "\n",
    "from skimage.morphology import disk\n",
    "\n",
    "from cells_in_gel import preprocess as pp\n",
    "from cells_in_gel import properties as props\n",
    "from cells_in_gel import batch"
   ]
  },
  {
   "cell_type": "markdown",
   "metadata": {},
   "source": [
    "## Load Images\n",
    "\n",
    "Load images from a filepath using `glob.glob('filenames.tif')` into a list of strings. "
   ]
  },
  {
   "cell_type": "code",
   "execution_count": null,
   "metadata": {},
   "outputs": [],
   "source": [
    "# list of filenames\n",
    "files = glob.glob('C3*.tif') "
   ]
  },
  {
   "cell_type": "markdown",
   "metadata": {},
   "source": [
    "Using the `cells_in_gel.batch.max_projection(files)`, input the list of filenames to create a dictionary of max intensity projections. "
   ]
  },
  {
   "cell_type": "code",
   "execution_count": null,
   "metadata": {},
   "outputs": [],
   "source": [
    "max_proj = batch.max_projection(files)"
   ]
  },
  {
   "cell_type": "markdown",
   "metadata": {},
   "source": [
    "Here is a plot showing the max intensity projection from the 19th filename in the list of `files`."
   ]
  },
  {
   "cell_type": "code",
   "execution_count": null,
   "metadata": {},
   "outputs": [],
   "source": [
    "plt.imshow(max_proj[files[18]])"
   ]
  },
  {
   "cell_type": "markdown",
   "metadata": {},
   "source": [
    "## Segmentation and Region Properties"
   ]
  },
  {
   "cell_type": "markdown",
   "metadata": {},
   "source": [
    "Create the `selem` for separation of objects. A higher number will result in less separation between objects in max intensity projections. (Need to update our original preprocess function to optimize this a bit better)."
   ]
  },
  {
   "cell_type": "code",
   "execution_count": null,
   "metadata": {},
   "outputs": [],
   "source": [
    "selem = disk(0)"
   ]
  },
  {
   "cell_type": "markdown",
   "metadata": {},
   "source": [
    "Using `cells_in_gel.batch.labels_regions(files)`, segment max projections, label objects, and extract region properties. The output `regions` will give a dictionary containing dataframes of properties for each max intensity projection. "
   ]
  },
  {
   "cell_type": "code",
   "execution_count": null,
   "metadata": {},
   "outputs": [],
   "source": [
    "regions = batch.labels_regions(files, selem, min_size=350)"
   ]
  },
  {
   "cell_type": "markdown",
   "metadata": {},
   "source": [
    "Here is the head for the first max intensity projection dataframe in our list of `files`."
   ]
  },
  {
   "cell_type": "code",
   "execution_count": null,
   "metadata": {},
   "outputs": [],
   "source": [
    "regions[files[0]].head()"
   ]
  },
  {
   "cell_type": "markdown",
   "metadata": {},
   "source": [
    "## Extracting Average Values from Max Intesnity Projections"
   ]
  },
  {
   "cell_type": "markdown",
   "metadata": {},
   "source": [
    "Create a list of `titles` that describe categories between each underscore in filenames. Create a list of average `properties` to extract from the max intensity projection regions dataframe."
   ]
  },
  {
   "cell_type": "code",
   "execution_count": null,
   "metadata": {},
   "outputs": [],
   "source": [
    "titles = ['celltype', 'ecmtype_conc', 'rgd_conc', 'mag', 'img_num']\n",
    "properties = ['area', 'eccentricity', 'extent']"
   ]
  },
  {
   "cell_type": "markdown",
   "metadata": {},
   "source": [
    "Using `cells_in_gel.batch.image_summaries(files, properties, titles, regions)`, extract a summary dataframe that includes average and variance properties from each max intensity projection. See the `summary` head below. "
   ]
  },
  {
   "cell_type": "code",
   "execution_count": null,
   "metadata": {},
   "outputs": [],
   "source": [
    "summary = batch.image_summaries(files, properties, titles, regions)\n",
    "summary.head()"
   ]
  },
  {
   "cell_type": "markdown",
   "metadata": {},
   "source": [
    "Further analysis of grouping, etc. will be done using the `summary` dataframe. At this point, you can use `summary.to_csv('imagesummaries_green.csv', index=False)` for creating a CSV of this dataframe."
   ]
  },
  {
   "cell_type": "code",
   "execution_count": null,
   "metadata": {},
   "outputs": [],
   "source": [
    "summary.to_csv('imagesummaries_green_2.csv')"
   ]
  },
  {
   "cell_type": "markdown",
   "metadata": {},
   "source": [
    "## WORK IN PROGRESS: Graphing Groups\n",
    "\n",
    "List category headers, cell types, ecm types, rgd/no rgd. Next, groupby unique combinations of all three categories. "
   ]
  },
  {
   "cell_type": "code",
   "execution_count": null,
   "metadata": {},
   "outputs": [],
   "source": [
    "categ = ['celltype', 'ecmtype_conc', 'rgd_conc']\n",
    "cells = ['C3-I61QTTA-CFbs', 'C3-NTG-CFbs']\n",
    "ecms = ['I61Q1ECM', 'I61Q5ECM', 'NTG1ECM', 'NTG5ECM', 'NoECM']\n",
    "rgds = ['0mMRGD', '1mMRGD']\n",
    "\n",
    "group_names = []\n",
    "# create empty dictionary where group_names are the keys for each group\n",
    "groups = {}\n",
    "\n",
    "\n",
    "for rgd in rgds:\n",
    "    for cell in cells:\n",
    "        for ecm in ecms:\n",
    "            name = cell + '_' + ecm + '_' + rgd\n",
    "            group_names.append(name)\n",
    "            groups[name] = summary.groupby(categ).get_group((cell, ecm, rgd))"
   ]
  },
  {
   "cell_type": "markdown",
   "metadata": {},
   "source": [
    "Here is an example of a single group consisting of NTG fibroblasts, I61Q5ECM, 1mMRGD."
   ]
  },
  {
   "cell_type": "code",
   "execution_count": null,
   "metadata": {},
   "outputs": [],
   "source": [
    "groups[group_names[16]]"
   ]
  },
  {
   "cell_type": "markdown",
   "metadata": {},
   "source": [
    "Create list of columns from each group, and create a new dataframe with average from each group!"
   ]
  },
  {
   "cell_type": "code",
   "execution_count": null,
   "metadata": {},
   "outputs": [],
   "source": [
    "columns = ['area', 'area_var', 'eccentricity', 'eccentricity_var', 'extent', 'extent_var']\n",
    "\n",
    "tot = []\n",
    "\n",
    "for name in group_names:\n",
    "    gr = []\n",
    "    for column in columns:\n",
    "        gr.append(groups[name][column].mean())\n",
    "    tot.append(gr)\n",
    "\n",
    "fin = pd.DataFrame(tot, group_names, columns)"
   ]
  },
  {
   "cell_type": "markdown",
   "metadata": {},
   "source": [
    "Here is an example of what the final dataframe looks like, one row for each group - wahoo!"
   ]
  },
  {
   "cell_type": "code",
   "execution_count": null,
   "metadata": {},
   "outputs": [],
   "source": [
    "final = fin.reset_index()\n",
    "final"
   ]
  },
  {
   "cell_type": "markdown",
   "metadata": {},
   "source": [
    "Labels will be the groups on each graph (ECM type). Create lists of each cell type (I6QTTA, NTG) properties (area, eccentricity, extent)."
   ]
  },
  {
   "cell_type": "code",
   "execution_count": null,
   "metadata": {},
   "outputs": [],
   "source": [
    "ecms = ['I61Q1ECM', 'I61Q5ECM', 'NTG1ECM', 'NTG5ECM', 'NoECM']\n",
    "labels = ecms\n",
    "properties = ['area', 'eccentricity', 'extent']\n",
    "\n",
    "i6_norgd = []  # empty list of I6QTTA no rgd group\n",
    "i6_rgd = []  # empty list of I6QTTA rgd group\n",
    "ntg_norgd = []  # empty list of NTG no rgd group\n",
    "ntg_rgd = []  # empty list of NTG rgd group\n",
    "\n",
    "# get all properties from group\n",
    "for prop in properties:\n",
    "    i6_norgd.append(final[prop][0:5].values.tolist())\n",
    "    i6_rgd.append(final[prop][10:15].values.tolist())\n",
    "    \n",
    "    ntg_norgd.append(final[prop][5:10].values.tolist())\n",
    "    ntg_rgd.append(final[prop][15:20].values.tolist())\n",
    "\n",
    "# example of property 0 : area for I6QTTA cells with no rgd (corresponding to all 5 ecm types)\n",
    "i6_norgd[0]"
   ]
  },
  {
   "cell_type": "markdown",
   "metadata": {},
   "source": [
    "Graphing each group!"
   ]
  },
  {
   "cell_type": "code",
   "execution_count": null,
   "metadata": {},
   "outputs": [],
   "source": [
    "x = np.arange(len(labels))  # the label locations\n",
    "width = 0.35  # the width of the bars\n",
    "\n",
    "fig, axes = plt.subplots(ncols=2, nrows=3, figsize=(14, 13))\n",
    "\n",
    "# plotting I6QTTA mean cell area\n",
    "axes[0, 0].bar(x - width/2, i6_norgd[0], width, label='No RGD') # without RGC\n",
    "axes[0, 0].bar(x + width/2, i6_rgd[0], width, label='RGD') # with RGD\n",
    "axes[0, 0].set_ylabel('Mean Cell Area (pixels)')\n",
    "axes[0, 0].set_title('I61QTTA Fibroblasts')\n",
    "\n",
    "# NTG mean cell area\n",
    "axes[0, 1].bar(x - width/2, ntg_norgd[0], width, label='No RGD')\n",
    "axes[0, 1].bar(x + width/2, ntg_rgd[0], width, label='RGD')\n",
    "axes[0, 1].set_ylabel('Mean Cell Area (pixels)')\n",
    "axes[0, 1].set_title('NTG Fibroblasts')\n",
    "\n",
    "# I6QTTA eccentricity\n",
    "axes[1, 0].bar(x - width/2, i6_norgd[1], width, label='No RGD')\n",
    "axes[1, 0].bar(x + width/2, i6_rgd[1], width, label='RGD')\n",
    "axes[1, 0].set_ylabel('Eccentricity')\n",
    "axes[1, 0].set_title('I61QTTA Fibroblasts')\n",
    "\n",
    "# NTG eccentricity\n",
    "axes[1, 1].bar(x - width/2, ntg_norgd[1], width, label='No RGD')\n",
    "axes[1, 1].bar(x + width/2, ntg_rgd[1], width, label='RGD')\n",
    "axes[1, 1].set_ylabel('Eccentricity')\n",
    "axes[1, 1].set_title('NTG Fibroblasts')\n",
    "\n",
    "# I61QTTA extent\n",
    "axes[2, 0].bar(x - width/2, i6_norgd[2], width, label='No RGD')\n",
    "axes[2, 0].bar(x + width/2, i6_rgd[2], width, label='RGD')\n",
    "axes[2, 0].set_ylabel('Extent')\n",
    "axes[2, 0].set_title('I61QTTA Fibroblasts')\n",
    "\n",
    "# NTG extent\n",
    "axes[2, 1].bar(x - width/2, ntg_norgd[2], width, label='No RGD')\n",
    "axes[2, 1].bar(x + width/2, ntg_rgd[2], width, label='RGD')\n",
    "axes[2, 1].set_ylabel('Extent')\n",
    "axes[2, 1].set_title('NTG Fibroblasts')\n",
    "\n",
    "for ax in axes.flatten():\n",
    "    ax.set_xticks(x)\n",
    "    ax.set_xticklabels(labels)\n",
    "    ax.legend()\n",
    "\n",
    "fig.tight_layout()\n",
    "\n",
    "plt.show()"
   ]
  },
  {
   "cell_type": "code",
   "execution_count": null,
   "metadata": {},
   "outputs": [],
   "source": []
  }
 ],
 "metadata": {
  "kernelspec": {
   "display_name": "Python 3",
   "language": "python",
   "name": "python3"
  },
  "language_info": {
   "codemirror_mode": {
    "name": "ipython",
    "version": 3
   },
   "file_extension": ".py",
   "mimetype": "text/x-python",
   "name": "python",
   "nbconvert_exporter": "python",
   "pygments_lexer": "ipython3",
   "version": "3.7.3"
  }
 },
 "nbformat": 4,
 "nbformat_minor": 4
}
