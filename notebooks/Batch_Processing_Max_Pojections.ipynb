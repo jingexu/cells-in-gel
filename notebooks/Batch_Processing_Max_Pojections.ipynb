{
 "cells": [
  {
   "cell_type": "markdown",
   "metadata": {},
   "source": [
    "# Example of using `cells_in_gel`"
   ]
  },
  {
   "cell_type": "markdown",
   "metadata": {},
   "source": [
    "## Imports"
   ]
  },
  {
   "cell_type": "code",
   "execution_count": null,
   "metadata": {},
   "outputs": [],
   "source": [
    "import matplotlib.pyplot as plt\n",
    "import pandas as pd\n",
    "import numpy as np\n",
    "import glob\n",
    "\n",
    "from skimage.morphology import disk\n",
    "\n",
    "from cells_in_gel import preprocess as pp\n",
    "from cells_in_gel import properties as props\n",
    "from cells_in_gel import batch"
   ]
  },
  {
   "cell_type": "markdown",
   "metadata": {},
   "source": [
    "## Load Images\n",
    "\n",
    "Load images from a filepath using `glob.glob('filenames.tif')` into a list of strings. "
   ]
  },
  {
   "cell_type": "code",
   "execution_count": null,
   "metadata": {},
   "outputs": [],
   "source": [
    "# list of filenames\n",
    "files = glob.glob('C3*.tif') "
   ]
  },
  {
   "cell_type": "markdown",
   "metadata": {},
   "source": [
    "Using the `cells_in_gel.batch.max_projection(files)`, input the list of filenames to create a dictionary of max intensity projections. "
   ]
  },
  {
   "cell_type": "code",
   "execution_count": null,
   "metadata": {},
   "outputs": [],
   "source": [
    "max_proj = batch.max_projection(files)"
   ]
  },
  {
   "cell_type": "markdown",
   "metadata": {},
   "source": [
    "Here is a plot showing the max intensity projection from the 19th filename in the list of `files`."
   ]
  },
  {
   "cell_type": "code",
   "execution_count": null,
   "metadata": {},
   "outputs": [],
   "source": [
    "plt.imshow(max_proj[files[18]])"
   ]
  },
  {
   "cell_type": "markdown",
   "metadata": {},
   "source": [
    "## Segmentation and Region Properties"
   ]
  },
  {
   "cell_type": "markdown",
   "metadata": {},
   "source": [
    "Create the `selem` for separation of objects. A higher number will result in less separation between objects in max intensity projections. (Need to update our original preprocess function to optimize this a bit better)."
   ]
  },
  {
   "cell_type": "code",
   "execution_count": null,
   "metadata": {},
   "outputs": [],
   "source": [
    "selem = disk(1)"
   ]
  },
  {
   "cell_type": "markdown",
   "metadata": {},
   "source": [
    "Using `cells_in_gel.batch.labels_regions(files)`, segment max projections, label objects, and extract region properties. The output `regions` will give a dictionary containing dataframes of properties for each max intensity projection. "
   ]
  },
  {
   "cell_type": "code",
   "execution_count": null,
   "metadata": {},
   "outputs": [],
   "source": [
    "regions = batch.labels_regions(files, selem, min_size=350)"
   ]
  },
  {
   "cell_type": "markdown",
   "metadata": {},
   "source": [
    "Here is the head for the first max intensity projection dataframe in our list of `files`."
   ]
  },
  {
   "cell_type": "code",
   "execution_count": null,
   "metadata": {},
   "outputs": [],
   "source": [
    "regions[files[0]].head()"
   ]
  },
  {
   "cell_type": "markdown",
   "metadata": {},
   "source": [
    "## Extracting Average Values from Max Intesnity Projections"
   ]
  },
  {
   "cell_type": "markdown",
   "metadata": {},
   "source": [
    "Create a list of `titles` that describe categories between each underscore in filenames. Create a list of average `properties` to extract from the max intensity projection regions dataframe."
   ]
  },
  {
   "cell_type": "code",
   "execution_count": null,
   "metadata": {},
   "outputs": [],
   "source": [
    "titles = ['celltype', 'ecmtype_conc', 'rgd_conc', 'mag', 'img_num']\n",
    "properties = ['area', 'eccentricity', 'extent']"
   ]
  },
  {
   "cell_type": "markdown",
   "metadata": {},
   "source": [
    "Using `cells_in_gel.batch.image_summaries(files, properties, titles, regions)`, extract a summary dataframe that includes average and variance properties from each max intensity projection. See the `summary` head below. "
   ]
  },
  {
   "cell_type": "code",
   "execution_count": null,
   "metadata": {},
   "outputs": [],
   "source": [
    "summary = batch.image_summaries(files, properties, titles, regions)\n",
    "summary.head()"
   ]
  },
  {
   "cell_type": "markdown",
   "metadata": {},
   "source": [
    "Further analysis of grouping, etc. will be done using the `summary` dataframe. At this point, you can use `summary.to_csv('imagesummaries_green.csv', index=False)` for creating a CSV of this dataframe."
   ]
  },
  {
   "cell_type": "markdown",
   "metadata": {},
   "source": [
    "## WORK IN PROGRESS: Graphing Groups"
   ]
  },
  {
   "cell_type": "markdown",
   "metadata": {},
   "source": [
    "Playing around with `groupby`, but not sure how to extract values from the dataframe grouped in this way. "
   ]
  },
  {
   "cell_type": "code",
   "execution_count": null,
   "metadata": {},
   "outputs": [],
   "source": [
    "groups = ['celltype', 'ecmtype_conc', 'rgd_conc']\n",
    "\n",
    "summary_g = summary.groupby(groups).mean()\n",
    "summary_g"
   ]
  },
  {
   "cell_type": "markdown",
   "metadata": {},
   "source": [
    "Instead, tried grouping in a different way, and this seems easier to extract information from."
   ]
  },
  {
   "cell_type": "code",
   "execution_count": null,
   "metadata": {},
   "outputs": [],
   "source": [
    "groups = ['celltype', 'ecmtype_conc', 'rgd_conc']\n",
    "ecms = ['I61Q1ECM', 'I61Q5ECM', 'NTG1ECM', 'NTG5ECM', 'NoECM']\n",
    "rgd = ['0mMRGD', '1mMRGD']\n",
    "\n",
    "gr = {}\n",
    "gr_rgd = {}\n",
    "\n",
    "i = 0\n",
    "for ecm in ecms:\n",
    "    gr[i] = summary.groupby(groups).get_group(('C3-NTG-CFbs', ecm, rgd[0]))\n",
    "    i += 1\n",
    "\n",
    "i = 0\n",
    "for ecm in ecms:\n",
    "    gr_rgd[i] = summary.groupby(groups).get_group(('C3-NTG-CFbs', ecm, rgd[1]))\n",
    "    i += 1\n",
    "    \n",
    "gr[0]"
   ]
  },
  {
   "cell_type": "markdown",
   "metadata": {},
   "source": [
    "**Here is my super hackey way of getting to the graphs although I am definitely planning to clean this up! It's probably very confusing at this point...**"
   ]
  },
  {
   "cell_type": "code",
   "execution_count": null,
   "metadata": {},
   "outputs": [],
   "source": [
    "summary[3:6]"
   ]
  },
  {
   "cell_type": "code",
   "execution_count": null,
   "metadata": {},
   "outputs": [],
   "source": [
    "g1_no_rgd = np.mean(summary[0:3]['area'])\n",
    "g1_rgd = np.mean(summary[4:6]['area'])\n",
    "\n",
    "g2_no_rgd = np.mean(summary[6:9]['area']) \n",
    "g2_rgd = np.mean(summary[9:12]['area'])\n",
    "\n",
    "g3_no_rgd = np.mean(summary[12:15]['area']) \n",
    "g3_rgd = np.mean(summary[15:18]['area']) \n",
    "\n",
    "g4_no_rgd = np.mean(summary[18:21]['area']) \n",
    "g4_rgd = np.mean(summary[21:24]['area']) \n",
    "\n",
    "g5_no_rgd = np.mean(summary[24:27]['area']) \n",
    "g5_rgd = np.mean(summary[27:]['area']) "
   ]
  },
  {
   "cell_type": "code",
   "execution_count": null,
   "metadata": {},
   "outputs": [],
   "source": [
    "g1_no_rgd_e = np.mean(summary[0:3]['eccentricity'])\n",
    "g1_rgd_e = np.mean(summary[4:6]['eccentricity'])\n",
    "\n",
    "g2_no_rgd_e = np.mean(summary[6:9]['eccentricity']) \n",
    "g2_rgd_e = np.mean(summary[9:12]['eccentricity'])\n",
    "\n",
    "g3_no_rgd_e = np.mean(summary[12:15]['eccentricity']) \n",
    "g3_rgd_e = np.mean(summary[15:18]['eccentricity']) \n",
    "\n",
    "g4_no_rgd_e = np.mean(summary[18:21]['eccentricity']) \n",
    "g4_rgd_e = np.mean(summary[21:24]['eccentricity']) \n",
    "\n",
    "g5_no_rgd_e = np.mean(summary[24:27]['eccentricity']) \n",
    "g5_rgd_e = np.mean(summary[27:]['eccentricity']) "
   ]
  },
  {
   "cell_type": "code",
   "execution_count": null,
   "metadata": {},
   "outputs": [],
   "source": [
    "import matplotlib\n",
    "import matplotlib.pyplot as plt\n",
    "import numpy as np\n",
    "\n",
    "\n",
    "labels = ['I61Q 1mg/mL', 'I6IQ 5mg/mL', 'No ECM', 'NTG 1mg/mL', 'NTG 5mg/mL']\n",
    "g1_areas = [g1_no_rgd, g2_no_rgd, g3_no_rgd, g4_no_rgd, g5_no_rgd]\n",
    "g2_areas = [g1_rgd, g2_rgd, g3_rgd, g4_rgd, g5_rgd]\n",
    "g1_ecc = [g1_no_rgd_e, g2_no_rgd_e, g3_no_rgd_e, g4_no_rgd_e, g5_no_rgd_e]\n",
    "g2_ecc = [g1_rgd_e, g2_rgd_e, g3_rgd_e, g4_rgd_e, g5_rgd_e]\n",
    "\n",
    "x = np.arange(len(labels))  # the label locations\n",
    "width = 0.35  # the width of the bars\n",
    "\n",
    "fig, ax = plt.subplots(ncols=2, figsize=(14,5))\n",
    "\n",
    "ax[0].bar(x - width/2, g1_areas, width, label='No RGD')\n",
    "ax[0].bar(x + width/2, g2_areas, width, label='RGD')\n",
    "\n",
    "# Add some text for labels, title and custom x-axis tick labels, etc.\n",
    "ax[0].set_ylabel('Mean Cell Area (pixels)')\n",
    "ax[0].set_title('NTG Fibroblasts')\n",
    "ax[0].set_xticks(x)\n",
    "ax[0].set_xticklabels(labels)\n",
    "ax[0].legend()\n",
    "\n",
    "ax[1].bar(x - width/2, g1_ecc, width, label='No RGD')\n",
    "ax[1].bar(x + width/2, g2_ecc, width, label='RGD')\n",
    "\n",
    "# Add some text for labels, title and custom x-axis tick labels, etc.\n",
    "ax[1].set_ylabel('Mean Eccentricity')\n",
    "ax[1].set_title('NTG Fibroblasts')\n",
    "ax[1].set_xticks(x)\n",
    "ax[1].set_xticklabels(labels)\n",
    "ax[1].legend()\n",
    "\n",
    "\n",
    "fig.tight_layout()\n",
    "\n",
    "plt.show()"
   ]
  }
 ],
 "metadata": {
  "kernelspec": {
   "display_name": "Python 3",
   "language": "python",
   "name": "python3"
  },
  "language_info": {
   "codemirror_mode": {
    "name": "ipython",
    "version": 3
   },
   "file_extension": ".py",
   "mimetype": "text/x-python",
   "name": "python",
   "nbconvert_exporter": "python",
   "pygments_lexer": "ipython3",
   "version": "3.7.3"
  }
 },
 "nbformat": 4,
 "nbformat_minor": 4
}
