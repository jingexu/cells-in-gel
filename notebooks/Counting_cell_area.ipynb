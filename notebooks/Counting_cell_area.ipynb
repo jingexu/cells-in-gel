{
 "cells": [
  {
   "cell_type": "markdown",
   "metadata": {},
   "source": [
    "## Notebook detailing finding area of cells\n",
    "Here, we utilize the colorize function in the preprocess module to label the cells. We begin by importing the necessary functions."
   ]
  },
  {
   "cell_type": "code",
   "execution_count": null,
   "metadata": {},
   "outputs": [],
   "source": [
    "import numpy as np\n",
    "import matplotlib.pyplot as plt\n",
    "import sys\n",
    "from skimage import io\n",
    "from skimage.measure import regionprops, regionprops_table\n",
    "import pandas as pd\n",
    "sys.path.insert(0, '~/cells-in-gel/cells_in_gel/')\n",
    "\n",
    "from cells_in_gel import preprocess\n",
    "from skimage.util import img_as_float, img_as_ubyte\n",
    "from skimage.transform import rescale"
   ]
  },
  {
   "cell_type": "markdown",
   "metadata": {},
   "source": [
    "We then import the pictures of cells. For today I am using two z-stacks of cells in the same condition:"
   ]
  },
  {
   "cell_type": "code",
   "execution_count": null,
   "metadata": {},
   "outputs": [],
   "source": [
    "cells = io.imread('C3-NTG-CFbs_NTG1ECM_1mMRGD_20x_002.tif')\n",
    "cells2 = io.imread('C3-NTG-CFbs_NTG5ECM_1mMRGD_20x_003.tif')"
   ]
  },
  {
   "cell_type": "markdown",
   "metadata": {},
   "source": [
    "In this next step, we call the function colorize with the specific image, the size of the binarization element, and the size of the image in microns as determined with imageJ or knowledge of the microscope. I then generate a data frame with the label overlays made in colorize, which I included valuable information, such as area, major axis length and eccentricity. \n",
    "\n",
    "*On an aside, I update colorize to resize the image so that the regionprops table gives us the area of the cells in \\\\( micron^2\\\\). "
   ]
  },
  {
   "cell_type": "code",
   "execution_count": null,
   "metadata": {},
   "outputs": [],
   "source": [
    "cells_labelled = preprocess.colorize(cells[1], 3, 665.6)\n",
    "props = ('area', 'major_axis_length', 'minor_axis_length', 'mean_intensity', 'eccentricity', 'slice')\n",
    "regions = pd.DataFrame(regionprops_table(cells_labelled, rescale(cells[1],0.65), props))\n",
    "new_dataframe = regions.drop(regions[regions['area'] < 20].index)\n"
   ]
  },
  {
   "cell_type": "markdown",
   "metadata": {},
   "source": [
    "I also dropped rows of the dataframe that had small area values, as these are probably artifacts/noise. However, Jenny has been working on this."
   ]
  },
  {
   "cell_type": "code",
   "execution_count": null,
   "metadata": {},
   "outputs": [],
   "source": [
    "new_dataframe\n"
   ]
  },
  {
   "cell_type": "markdown",
   "metadata": {},
   "source": [
    "I do this again with another picture, with the same condition."
   ]
  },
  {
   "cell_type": "code",
   "execution_count": null,
   "metadata": {},
   "outputs": [],
   "source": [
    "cells_labelled2 = preprocess.colorize(cells2[1], 3, 665.6)\n",
    "regions2 = pd.DataFrame(regionprops_table(cells_labelled2, rescale(cells2[1],0.65), props))\n",
    "new_dataframe2 = regions2.drop(regions2[regions2['area'] < 20].index)\n",
    "new_dataframe2"
   ]
  },
  {
   "cell_type": "markdown",
   "metadata": {},
   "source": [
    "I then concatenated the two dataframes so I could analyze them together."
   ]
  },
  {
   "cell_type": "code",
   "execution_count": null,
   "metadata": {},
   "outputs": [],
   "source": [
    "dataframefinal = pd.concat([new_dataframe, new_dataframe2])\n",
    "dataframefinal = dataframefinal.reset_index()\n",
    "dataframefinal"
   ]
  },
  {
   "cell_type": "markdown",
   "metadata": {},
   "source": [
    "Then, I plotted a histogram of the areas."
   ]
  },
  {
   "cell_type": "code",
   "execution_count": null,
   "metadata": {},
   "outputs": [],
   "source": [
    "dataframefinal.hist(column = 'area')"
   ]
  },
  {
   "cell_type": "code",
   "execution_count": null,
   "metadata": {},
   "outputs": [],
   "source": []
  }
 ],
 "metadata": {
  "kernelspec": {
   "display_name": "Python 3",
   "language": "python",
   "name": "python3"
  },
  "language_info": {
   "codemirror_mode": {
    "name": "ipython",
    "version": 3
   },
   "file_extension": ".py",
   "mimetype": "text/x-python",
   "name": "python",
   "nbconvert_exporter": "python",
   "pygments_lexer": "ipython3",
   "version": "3.7.6"
  }
 },
 "nbformat": 4,
 "nbformat_minor": 4
}
