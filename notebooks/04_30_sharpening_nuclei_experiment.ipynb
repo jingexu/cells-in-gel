{
 "cells": [
  {
   "cell_type": "code",
   "execution_count": null,
   "metadata": {},
   "outputs": [],
   "source": [
    "import numpy as np\n",
    "import matplotlib.pyplot as plt\n",
    "from skimage.filters import rank,laplace\n",
    "from skimage.util import img_as_float\n",
    "from skimage.morphology import square,disk\n",
    "from skimage import img_as_ubyte"
   ]
  },
  {
   "cell_type": "code",
   "execution_count": null,
   "metadata": {},
   "outputs": [],
   "source": [
    "def sharpen_nuclei(image,selem=square(8),ksize=10,alpha=0.2,sigma=40,imshow=True):\n",
    "    \n",
    "    image = img_as_ubyte(image)\n",
    "    def custom(image):\n",
    "        imin = np.min(image)\n",
    "        imax = np.max(image)\n",
    "        full = imax - imin\n",
    "        new = (image - imin)/full\n",
    "        return new\n",
    "    \n",
    "    im = custom(image)\n",
    "    print(im.shape)\n",
    "    \n",
    "    threshold2 = np.mean(im) + 3*np.std(im)\n",
    "    print(threshold2)\n",
    "    im1 = im >threshold2\n",
    "    im2 = rank.mean(im1,selem)\n",
    "    \n",
    "    im21 = custom(im2)\n",
    "    threshold3 = np.mean(im21) + np.std(im21)\n",
    "    print(threshold3)\n",
    "    im3 = im >threshold3\n",
    "    \n",
    "    \n",
    "    im5 = laplace(im2,ksize=ksize)\n",
    "    im4 = im2 + alpha*im5\n",
    "    threshold4 = np.mean(im4) + np.std(im4)\n",
    "    im4 = im4 > threshold4\n",
    "    \n",
    "    xi = np.linspace(0,(im.shape[1]-1),im.shape[1])\n",
    "    yi = np.linspace(0,(im.shape[0]-1),im.shape[0])\n",
    "    x,y = np.meshgrid(xi,yi)\n",
    "    sigma = sigma\n",
    "    mi = im.shape[1]/2\n",
    "    ni = im.shape[0]/2\n",
    "    gfilt = np.exp(-((x-mi)**2+(y-ni)**2)/(2*sigma**2))\n",
    "    \n",
    "    fim = np.fft.fft2(im1) \n",
    "    fim2 = np.fft.fftshift(fim) \n",
    "    fim3 = np.multiply(fim2, gfilt) \n",
    "    fim4 = np.fft.ifftshift(fim3) \n",
    "    im6 = np.real(np.fft.ifft2(fim4)) \n",
    "\n",
    "    im7 = custom(im6)\n",
    "    threshold6 = np.mean(im7)+0.2*np.std(im7)\n",
    "    print(threshold6)\n",
    "    im7 = im6 > threshold6\n",
    "\n",
    "\n",
    " \n",
    "    f1 = im4*1\n",
    "    f2 = im7*1\n",
    "    \n",
    "    \n",
    "    if imshow==True:\n",
    "        fig,ax = plt.subplots(1,3,figsize=(18,10))\n",
    "\n",
    "        ax[0].imshow(image)\n",
    "        ax[1].imshow(f1,cmap='gray')\n",
    "        ax[2].imshow(f2,cmap='gray')\n",
    "\n",
    "        ax[0].set_title('original image',fontsize=25)\n",
    "        ax[1].set_title('Blur and Laplace',fontsize=25)\n",
    "        ax[2].set_title('Gaussian Filter',fontsize=25)\n",
    "\n",
    "        for i in [0,1,2]:\n",
    "            ax[i].axis('off')\n",
    "\n",
    "            \n",
    "    else:\n",
    "        pass\n",
    "\n",
    "    return [f1,f2]"
   ]
  },
  {
   "cell_type": "code",
   "execution_count": null,
   "metadata": {},
   "outputs": [],
   "source": [
    "a = plt.imread('nuclei.tif')"
   ]
  },
  {
   "cell_type": "code",
   "execution_count": null,
   "metadata": {},
   "outputs": [],
   "source": [
    "sharpen_nuclei(a,imshow=True)"
   ]
  }
 ],
 "metadata": {
  "kernelspec": {
   "display_name": "Python 3",
   "language": "python",
   "name": "python3"
  },
  "language_info": {
   "codemirror_mode": {
    "name": "ipython",
    "version": 3
   },
   "file_extension": ".py",
   "mimetype": "text/x-python",
   "name": "python",
   "nbconvert_exporter": "python",
   "pygments_lexer": "ipython3",
   "version": "3.7.6"
  }
 },
 "nbformat": 4,
 "nbformat_minor": 4
}
