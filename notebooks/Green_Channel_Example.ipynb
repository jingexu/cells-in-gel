{
 "cells": [
  {
   "cell_type": "markdown",
   "metadata": {},
   "source": [
    "# Example of using `cells_in_gel.batch` for Green (Phalloidin 488) Channel \n",
    "\n",
    "The Wrapping Function section shows the quickest way to achieve results using 20x tiff stacks with filenames labeled as:\n",
    "\n",
    "* Example filename: I61QTTA-CFbs_I61Q5ECM_1mMRGD_20x_002\n",
    "* Fibroblast Genotype (I61QTTA)\n",
    "* ECM Genotype and Concentration (I61QTTA, 5mg/mL)\n",
    "* RGD Concentration (1mM)\n",
    "* Gel number (1 z-stack acquired per 5uL gel, 3 gels per condition)\n",
    "\n",
    "\n",
    "The Maximum Intensity Projection, Segmentation and Region Properties, Extracting Average Values from Max Intesnity Projections, and  Graphing Groups sections all describe user tunable functions for more in depth approach of extracting data. "
   ]
  },
  {
   "cell_type": "markdown",
   "metadata": {},
   "source": [
    "## Imports"
   ]
  },
  {
   "cell_type": "code",
   "execution_count": null,
   "metadata": {},
   "outputs": [],
   "source": [
    "import matplotlib.pyplot as plt\n",
    "import pandas as pd\n",
    "import numpy as np\n",
    "import glob\n",
    "\n",
    "from skimage.morphology import disk\n",
    "\n",
    "from cells_in_gel import batch"
   ]
  },
  {
   "cell_type": "markdown",
   "metadata": {},
   "source": [
    "## Load Images\n",
    "\n",
    "Load your images from a filepath using `glob.glob('filenames.tif')` into a list of strings. The `*` can be used to capture all files with the remainder of specifications. For example, `*.tif` will capture all tif files in the directory. "
   ]
  },
  {
   "cell_type": "code",
   "execution_count": null,
   "metadata": {},
   "outputs": [],
   "source": [
    "# list of filenames\n",
    "files = glob.glob('C3*.tif') "
   ]
  },
  {
   "cell_type": "markdown",
   "metadata": {},
   "source": [
    "## Wrapping Function\n",
    "\n",
    "The wrapping function, `batch.max_proj_wrap(files)`, takes the input filenames, and returns the segmented images with graphs of each comparison group. The grouping is based on comparing with or without RGD present, ECM type, and cell type. "
   ]
  },
  {
   "cell_type": "code",
   "execution_count": null,
   "metadata": {
    "scrolled": true
   },
   "outputs": [],
   "source": [
    "batch.max_proj_wrap(files)"
   ]
  },
  {
   "cell_type": "markdown",
   "metadata": {},
   "source": [
    "Further tunability can be achieved by following the remainder of this notebook as a step-by-step guide to using each function in batch. "
   ]
  },
  {
   "cell_type": "markdown",
   "metadata": {},
   "source": [
    "## Maximum Intensity Projections"
   ]
  },
  {
   "cell_type": "markdown",
   "metadata": {},
   "source": [
    "Maximum intensity projections can be obtained from each z stack and placed into a dictionary using the `batch.max_projection(files)` function. "
   ]
  },
  {
   "cell_type": "code",
   "execution_count": null,
   "metadata": {},
   "outputs": [],
   "source": [
    "max_proj = batch.max_projection(files)"
   ]
  },
  {
   "cell_type": "markdown",
   "metadata": {},
   "source": [
    "Here is a plot showing the max intensity projection from the 19th filename in the list of `files`. By changing the number in `files[18]`, you can look through various max projections from the images. "
   ]
  },
  {
   "cell_type": "code",
   "execution_count": null,
   "metadata": {},
   "outputs": [],
   "source": [
    "plt.imshow(max_proj[files[18]])\n",
    "plt.axis('off')"
   ]
  },
  {
   "cell_type": "markdown",
   "metadata": {},
   "source": [
    "## Segmentation and Region Properties"
   ]
  },
  {
   "cell_type": "markdown",
   "metadata": {},
   "source": [
    "Create the `selem` (shape) for separation of objects. A higher number will result in less separation between objects in max intensity projections."
   ]
  },
  {
   "cell_type": "code",
   "execution_count": null,
   "metadata": {},
   "outputs": [],
   "source": [
    "selem = disk(5)"
   ]
  },
  {
   "cell_type": "markdown",
   "metadata": {},
   "source": [
    "Using `cells_in_gel.batch.labels_regions(files)`, segment max projections, label objects, and extract region properties. The output `regions` will give a dictionary containing dataframes of properties for each max intensity projection. "
   ]
  },
  {
   "cell_type": "code",
   "execution_count": null,
   "metadata": {},
   "outputs": [],
   "source": [
    "regions = batch.labels_regions(files, selem, min_size=350)"
   ]
  },
  {
   "cell_type": "markdown",
   "metadata": {},
   "source": [
    "Here is the head for the first max intensity projection dataframe in our list of `files`."
   ]
  },
  {
   "cell_type": "code",
   "execution_count": null,
   "metadata": {},
   "outputs": [],
   "source": [
    "regions[files[0]].head()"
   ]
  },
  {
   "cell_type": "markdown",
   "metadata": {},
   "source": [
    "## Extracting Average Values from Max Intesnity Projections"
   ]
  },
  {
   "cell_type": "markdown",
   "metadata": {},
   "source": [
    "Create a list of `titles` that describe categories between each underscore in filenames. Create a list of average `properties` to extract from the max intensity projection regions dataframe."
   ]
  },
  {
   "cell_type": "code",
   "execution_count": null,
   "metadata": {},
   "outputs": [],
   "source": [
    "titles = ['celltype', 'ecmtype_conc', 'rgd_conc', 'mag', 'img_num']\n",
    "properties = ['area', 'eccentricity', 'extent']"
   ]
  },
  {
   "cell_type": "markdown",
   "metadata": {},
   "source": [
    "Using `batch.image_summaries(files, properties, titles, regions)`, extract a summary dataframe that includes average and variance properties from each max intensity projection. See the `summary` head below. "
   ]
  },
  {
   "cell_type": "code",
   "execution_count": null,
   "metadata": {},
   "outputs": [],
   "source": [
    "summary = batch.image_summaries(files, properties, titles, regions)\n",
    "summary.head()"
   ]
  },
  {
   "cell_type": "markdown",
   "metadata": {},
   "source": [
    "Further analysis of grouping, etc. will be done using the `summary` dataframe. At this point, you can use `summary.to_csv('imagesummaries_green.csv', index=False)` for creating a CSV of this dataframe. Further analysis can be done in excel if preferred at this point.  "
   ]
  },
  {
   "cell_type": "code",
   "execution_count": null,
   "metadata": {},
   "outputs": [],
   "source": [
    "summary.to_csv('image_summaries.csv')"
   ]
  },
  {
   "cell_type": "markdown",
   "metadata": {},
   "source": [
    "## Graphing Groups\n",
    "\n",
    "Graphing of the `summary` dataframe requires further grouping of the data. The `batch.groups(summary)` function groups according to unique combinations of cell type, ECM type, and RGD concentration. This results in 20 groups that will be placed in the final dataframe shown below. The column titled index indicates the unique group combination of cell type, ecm type, and RGD type. "
   ]
  },
  {
   "cell_type": "code",
   "execution_count": null,
   "metadata": {
    "scrolled": true
   },
   "outputs": [],
   "source": [
    "final = batch.groups(summary)\n",
    "final"
   ]
  },
  {
   "cell_type": "markdown",
   "metadata": {},
   "source": [
    "Properties and variance of these properties should now be defined for grouping the data into lists appropriate for graphing. "
   ]
  },
  {
   "cell_type": "code",
   "execution_count": null,
   "metadata": {},
   "outputs": [],
   "source": [
    "properties = ['area', 'eccentricity', 'extent']\n",
    "variance = ['area_var', 'eccentricity_var', 'extent_var']"
   ]
  },
  {
   "cell_type": "markdown",
   "metadata": {},
   "source": [
    "Lists of properties and groups can now be made for graphing. Here is what each group represents:\n",
    "* Group 1: I61QTTA cells with no RGD\n",
    "* Group 2: I61QTTA cells with RGD\n",
    "* Group 3: NTG cells with no RGD\n",
    "* Group 4: NTG cells with RGD\n",
    "\n",
    "Within each group, contains a list of properties each entry corresponding to `properties` previously defined:\n",
    "* First entry: area\n",
    "* Second entry: eccentricity\n",
    "* Third entry: extent"
   ]
  },
  {
   "cell_type": "code",
   "execution_count": null,
   "metadata": {},
   "outputs": [],
   "source": [
    "g1, g2, g3, g4 = batch.groupby_property(final, properties)"
   ]
  },
  {
   "cell_type": "markdown",
   "metadata": {},
   "source": [
    "A similar grouping can be done for the error bars of each group. Error bars area calculated as 2 * SEM (Standard Error of the Mean). "
   ]
  },
  {
   "cell_type": "code",
   "execution_count": null,
   "metadata": {},
   "outputs": [],
   "source": [
    "yerr_g1, yerr_g2, yerr_g3, yerr_g4 = batch.group_sem(final, variance)"
   ]
  },
  {
   "cell_type": "markdown",
   "metadata": {},
   "source": [
    "Finally, a graph can be constructed using each of the groups we defined and their corresponding SEM. "
   ]
  },
  {
   "cell_type": "code",
   "execution_count": null,
   "metadata": {},
   "outputs": [],
   "source": [
    "batch.graph(g1, g2, g3, g4, yerr_g1, yerr_g2, yerr_g3, yerr_g4)"
   ]
  }
 ],
 "metadata": {
  "kernelspec": {
   "display_name": "Python 3",
   "language": "python",
   "name": "python3"
  },
  "language_info": {
   "codemirror_mode": {
    "name": "ipython",
    "version": 3
   },
   "file_extension": ".py",
   "mimetype": "text/x-python",
   "name": "python",
   "nbconvert_exporter": "python",
   "pygments_lexer": "ipython3",
   "version": "3.7.3"
  }
 },
 "nbformat": 4,
 "nbformat_minor": 4
}
