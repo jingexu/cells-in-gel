{
 "cells": [
  {
   "cell_type": "code",
   "execution_count": null,
   "metadata": {},
   "outputs": [],
   "source": [
    "import numpy as np\n",
    "import matplotlib.pyplot as plt\n",
    "from skimage.filters import laplace"
   ]
  },
  {
   "cell_type": "code",
   "execution_count": null,
   "metadata": {},
   "outputs": [],
   "source": [
    "c = plt.imread('..\\C3-NTG-CFbs_NTG5ECM_1mMRGD_20x_003.tif')"
   ]
  },
  {
   "cell_type": "code",
   "execution_count": null,
   "metadata": {},
   "outputs": [],
   "source": [
    "c2 = c-np.min(c)\n",
    "c2 = c2/np.max(c2)\n",
    "d=c2>0.1\n",
    "im=d"
   ]
  },
  {
   "cell_type": "code",
   "execution_count": null,
   "metadata": {},
   "outputs": [],
   "source": [
    "xi = np.linspace(0,1023,1024)\n",
    "yi = np.linspace(0,1023,1024)\n",
    "x,y = np.meshgrid(xi,yi)\n",
    "sigma = 10\n",
    "m = xi.shape[0]/2\n",
    "n = yi.shape[0]/2\n",
    "\n",
    "gfilt = 1-np.exp(-((x-m)**2+(y-n)**2)/(2*sigma**2))"
   ]
  },
  {
   "cell_type": "code",
   "execution_count": null,
   "metadata": {},
   "outputs": [],
   "source": [
    "ims1 = laplace(im,ksize=10)#perform the laplace transform of the image\n",
    "ims2 = im + 0.1*ims1\n",
    "\n",
    "fim = np.fft.fft2(ims2) # Perform transform\n",
    "fim2 = np.fft.fftshift(fim) # Center\n",
    "fim3 = np.multiply(fim2, gfilt) # Multiply by filter function\n",
    "fim4 = np.fft.ifftshift(fim3) # Un-center\n",
    "im2 = np.real(np.fft.ifft2(fim4)) # Perform inverse transform\n",
    "\n",
    "\n",
    "\n",
    "fig, ax = plt.subplots(2,2, figsize=(10, 10))\n",
    "\n",
    "ax[0][0].imshow(c)\n",
    "ax[0][1].imshow(im, cmap=plt.cm.get_cmap('gray',2))\n",
    "ax[1][0].imshow(ims2, cmap=plt.cm.get_cmap('gray',2))\n",
    "ax[1][1].imshow(im2, cmap=plt.cm.get_cmap('gray',2))\n",
    "\n",
    "ax[0][0].set_title('original image',fontsize=20)\n",
    "ax[0][1].set_title('after threshold',fontsize=20)\n",
    "ax[1][0].set_title('sharpen by laplace',fontsize=20)\n",
    "ax[1][1].set_title('gaussian high-pass filtered',fontsize=20)\n",
    "\n",
    "for i in [0,1]:\n",
    "    for j in [0,1]:\n",
    "        ax[i][j].axis('off')\n",
    "\n"
   ]
  },
  {
   "cell_type": "code",
   "execution_count": null,
   "metadata": {},
   "outputs": [],
   "source": []
  },
  {
   "cell_type": "code",
   "execution_count": null,
   "metadata": {},
   "outputs": [],
   "source": []
  }
 ],
 "metadata": {
  "kernelspec": {
   "display_name": "Python 3",
   "language": "python",
   "name": "python3"
  },
  "language_info": {
   "codemirror_mode": {
    "name": "ipython",
    "version": 3
   },
   "file_extension": ".py",
   "mimetype": "text/x-python",
   "name": "python",
   "nbconvert_exporter": "python",
   "pygments_lexer": "ipython3",
   "version": "3.7.3"
  }
 },
 "nbformat": 4,
 "nbformat_minor": 2
}
