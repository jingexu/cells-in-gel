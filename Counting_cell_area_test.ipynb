{
 "cells": [
  {
   "cell_type": "markdown",
   "metadata": {},
   "source": [
    "## Notebook detailing finding area of cells\n",
    "Here, we utilize the colorize function in the preprocess module to label the cells. We begin by importing the necessary functions."
   ]
  },
  {
   "cell_type": "code",
   "execution_count": null,
   "metadata": {},
   "outputs": [],
   "source": [
    "import numpy as np\n",
    "import matplotlib.pyplot as plt\n",
    "\n",
    "from skimage import io\n",
    "from skimage.measure import regionprops, regionprops_table\n",
    "import pandas as pd\n",
    "\n",
    "import cells_in_gel.preprocess as prep\n",
    "import cells_in_gel.properties as props\n",
    "from cells_in_gel.properties import im_properties\n",
    "from skimage.util import img_as_float, img_as_ubyte\n",
    "from skimage.transform import rescale"
   ]
  },
  {
   "cell_type": "markdown",
   "metadata": {},
   "source": [
    "We then import the pictures of cells. For today I am using two z-stacks of cells in the same condition:"
   ]
  },
  {
   "cell_type": "code",
   "execution_count": null,
   "metadata": {},
   "outputs": [],
   "source": [
    "cells = io.imread('C3-NTG-CFbs_NTG1ECM_1mMRGD_20x_002.tif')\n",
    "cells2 = io.imread('C3-NTG-CFbs_NTG5ECM_1mMRGD_20x_003.tif')"
   ]
  },
  {
   "cell_type": "markdown",
   "metadata": {},
   "source": [
    "In this next step, we call the function colorize with the specific image, the size of the binarization element, and the size of the image in microns as determined with imageJ or knowledge of the microscope. I then generate a data frame with the label overlays made in colorize, which I included valuable information, such as area, major axis length and eccentricity. \n",
    "\n",
    "*On an aside, I update colorize to resize the image so that the regionprops table gives us the area of the cells in \\\\( micron^2\\\\). "
   ]
  },
  {
   "cell_type": "code",
   "execution_count": null,
   "metadata": {},
   "outputs": [],
   "source": [
    "cells_labelled = prep.colorize(cells[1], 3, 665.6)\n",
    "props = ('area', 'major_axis_length', 'minor_axis_length', 'mean_intensity', 'eccentricity', 'slice')\n",
    "regions = pd.DataFrame(regionprops_table(cells_labelled, rescale(cells[1],0.65), props))\n",
    "new_dataframe = regions.drop(regions[regions['area'] < 20].index)\n"
   ]
  },
  {
   "cell_type": "markdown",
   "metadata": {},
   "source": [
    "I also dropped rows of the dataframe that had small area values, as these are probably artifacts/noise. However, Jenny has been working on this."
   ]
  },
  {
   "cell_type": "code",
   "execution_count": null,
   "metadata": {},
   "outputs": [],
   "source": [
    "new_dataframe.head()\n"
   ]
  },
  {
   "cell_type": "code",
   "execution_count": null,
   "metadata": {},
   "outputs": [],
   "source": []
  },
  {
   "cell_type": "markdown",
   "metadata": {},
   "source": [
    "I do this again with another picture, with the same condition."
   ]
  },
  {
   "cell_type": "code",
   "execution_count": null,
   "metadata": {},
   "outputs": [],
   "source": [
    "cells_labelled2 = prep.colorize(cells2[1], 3, 665.6)\n",
    "regions2 = pd.DataFrame(regionprops_table(cells_labelled2, rescale(cells2[1],0.65), props))\n",
    "new_dataframe2 = regions2.drop(regions2[regions2['area'] < 20].index)\n",
    "new_dataframe2.head()"
   ]
  },
  {
   "cell_type": "markdown",
   "metadata": {},
   "source": [
    "I then concatenated the two dataframes so I could analyze them together."
   ]
  },
  {
   "cell_type": "code",
   "execution_count": null,
   "metadata": {},
   "outputs": [],
   "source": [
    "dataframefinal = pd.concat([new_dataframe, new_dataframe2])\n",
    "dataframefinal = dataframefinal.reset_index()\n",
    "dataframefinal.head()"
   ]
  },
  {
   "cell_type": "markdown",
   "metadata": {},
   "source": [
    "Then, I plotted a histogram of the areas."
   ]
  },
  {
   "cell_type": "code",
   "execution_count": null,
   "metadata": {},
   "outputs": [],
   "source": [
    "dataframefinal.hist(column = 'area')"
   ]
  },
  {
   "cell_type": "markdown",
   "metadata": {},
   "source": [
    "Trying out Jenny's Notebook scripts."
   ]
  },
  {
   "cell_type": "code",
   "execution_count": null,
   "metadata": {},
   "outputs": [],
   "source": [
    "im_stack = io.imread('C3-NTG-CFbs_NTG5ECM_1mMRGD_20x_003.tif')\n",
    "im = im_stack[10] # image 10 from the stack\n",
    "\n",
    "label, overlay = prep.phalloidin_488_segment(im, min_size=350)"
   ]
  },
  {
   "cell_type": "code",
   "execution_count": null,
   "metadata": {},
   "outputs": [],
   "source": [
    "x, y, z = im_stack.shape # dimensions of the image stack\n",
    "label_stack = np.zeros_like(im_stack) # create empty array for label\n",
    "overlay_stack = np.zeros((x, y, z, 3)) # create empty array for overlay"
   ]
  },
  {
   "cell_type": "code",
   "execution_count": null,
   "metadata": {},
   "outputs": [],
   "source": [
    "for i in range(x):\n",
    "    label_stack[i], overlay_stack[i] = prep.phalloidin_488_segment(im_stack[i], min_size=350)"
   ]
  },
  {
   "cell_type": "code",
   "execution_count": null,
   "metadata": {},
   "outputs": [],
   "source": [
    "fig, axes = plt.subplots(ncols=2, figsize=(12, 7))\n",
    "\n",
    "axes[0].imshow(im_stack[1], cmap='gray')\n",
    "axes[0].set_title('Original', fontsize='20')\n",
    "\n",
    "axes[1].imshow(overlay_stack[1], cmap='gray')\n",
    "axes[1].set_title('Overlay of Objects', fontsize='20')\n",
    "\n",
    "for ax in axes:\n",
    "    ax.axis('off')"
   ]
  },
  {
   "cell_type": "code",
   "execution_count": null,
   "metadata": {},
   "outputs": [],
   "source": [
    "frames = {} # dictionary\n",
    "groups = [i for i in range(x)] # keys for the dictionary that correspond to slices\n",
    "\n",
    "for grp in groups:\n",
    "    frames[grp] = props.im_properties(label_stack[grp], im_stack[grp])"
   ]
  }
 ],
 "metadata": {
  "kernelspec": {
   "display_name": "Python 3",
   "language": "python",
   "name": "python3"
  },
  "language_info": {
   "codemirror_mode": {
    "name": "ipython",
    "version": 3
   },
   "file_extension": ".py",
   "mimetype": "text/x-python",
   "name": "python",
   "nbconvert_exporter": "python",
   "pygments_lexer": "ipython3",
   "version": "3.7.6"
  }
 },
 "nbformat": 4,
 "nbformat_minor": 4
}
