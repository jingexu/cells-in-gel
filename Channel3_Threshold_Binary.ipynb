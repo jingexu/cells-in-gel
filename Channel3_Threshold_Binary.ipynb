{
 "cells": [
  {
   "cell_type": "code",
   "execution_count": null,
   "metadata": {},
   "outputs": [],
   "source": [
    "import matplotlib.pyplot as plt\n",
    "import numpy as np\n",
    "import frequency_filter as ff\n",
    "\n",
    "from skimage import io\n",
    "from skimage.filters import threshold_otsu\n",
    "from skimage.util import img_as_float\n",
    "from skimage.exposure import adjust_sigmoid"
   ]
  },
  {
   "cell_type": "markdown",
   "metadata": {},
   "source": [
    "## Filters to remove background and improve contrast\n",
    "\n",
    "[Otsu's method reference](https://scikit-image.org/docs/dev/auto_examples/segmentation/plot_thresholding.html)"
   ]
  },
  {
   "cell_type": "code",
   "execution_count": null,
   "metadata": {},
   "outputs": [],
   "source": [
    "# original image\n",
    "im_ch3 = img_as_float(io.imread('..\\C3-NTG-CFbs_NTG5ECM_1mMRGD_20x_003.tif'))\n",
    "\n",
    "# Otsu\n",
    "thresh = threshold_otsu(im_ch3[12], nbins=256)\n",
    "im_ch3_binary = im_ch3[12] > thresh\n",
    "\n",
    "# contrast adjustment\n",
    "im_ch3_sig = adjust_sigmoid(im_ch3[12], cutoff=0, gain=100, inv=False)\n",
    "\n",
    "# Otsu + contrast adjustment\n",
    "thresh_sig = threshold_otsu(im_ch3_sig, nbins=256)\n",
    "im_ch3_sig_binary = im_ch3_sig > thresh_sig\n",
    "\n",
    "# contrast + high pass filter\n",
    "im_ch3_hi = ff.frequency_filter(im_ch3_sig, 256, 85, passtype='high')\n",
    "\n",
    "# contrast + low pass filter\n",
    "im_ch3_lo = ff.frequency_filter(im_ch3_sig, 500, 70, passtype='low')\n",
    "\n",
    "# contrast + low pass + binary \n",
    "thresh_lo = threshold_otsu(im_ch3_lo, nbins=256)\n",
    "im_ch3_lo_binary = im_ch3_lo > thresh_lo\n",
    "\n",
    "# Contrast + Steve's way\n",
    "im_shift = im_ch3_sig - np.min(im_ch3_sig)\n",
    "im_norm = im_shift/np.max(im_ch3_sig)\n",
    "im_thresh = im_norm > 0.1\n",
    "\n",
    "# contrast + binary + low pass\n",
    "im_ch3_lo_2 = ff.frequency_filter(im_ch3_sig_binary, 500, 80, passtype='low')"
   ]
  },
  {
   "cell_type": "code",
   "execution_count": null,
   "metadata": {},
   "outputs": [],
   "source": [
    "# plotting\n",
    "fig, ax = plt.subplots(ncols=3, nrows=3, figsize=(15, 15))\n",
    "\n",
    "ax[0,0].imshow(im_ch3[12], cmap='magma')\n",
    "ax[0,0].set_title('Original')\n",
    "\n",
    "ax[0,1].imshow(im_ch3_binary, cmap='binary_r')\n",
    "ax[0,1].set_title('Otsu')\n",
    "\n",
    "ax[0,2].imshow(im_ch3_sig, cmap='magma')\n",
    "ax[0,2].set_title('Contrast Adjustment')\n",
    "\n",
    "ax[1,0].imshow(im_ch3_sig_binary, cmap='binary_r')\n",
    "ax[1,0].set_title('Contrast Adjustment + Otsu')\n",
    "\n",
    "ax[1,1].imshow(im_ch3_hi, cmap='magma')\n",
    "ax[1,1].set_title('Contrast + High Pass')\n",
    "\n",
    "ax[1,2].imshow(im_ch3_lo, cmap='magma')\n",
    "ax[1,2].set_title('Contrast + Low Pass')\n",
    "\n",
    "ax[2,0].imshow(im_thresh, cmap='binary_r')\n",
    "ax[2,0].set_title(\"Contrast + Steve's threshold\")\n",
    "\n",
    "ax[2,1].imshow(im_ch3_lo_binary, cmap='binary_r')\n",
    "ax[2,1].set_title('Contrast + Low Pass + Binary')\n",
    "\n",
    "ax[2,2].imshow(im_ch3_lo_2, cmap='magma')\n",
    "ax[2,2].set_title('Contrast + Binary + Low Pass')"
   ]
  },
  {
   "cell_type": "markdown",
   "metadata": {},
   "source": [
    "## Creating a function"
   ]
  },
  {
   "cell_type": "code",
   "execution_count": null,
   "metadata": {},
   "outputs": [],
   "source": [
    "def phalloidin_488_binary(im, mu=500, sigma=70, cutoff=0, gain=100):\n",
    "    \"\"\"\n",
    "    This function binarizes a phalloidin 488 fluorescence microscopy channel. \n",
    "    \n",
    "    Paramters\n",
    "    ---------\n",
    "    im : (N, M) ndarray\n",
    "        Grayscale input image.\n",
    "    cutoff : float, optional\n",
    "        Cutoff of the sigmoid function that shifts the characteristic curve\n",
    "        in horizontal direction. Default value is 0.\n",
    "    gain : float, optional\n",
    "        The constant multiplier in exponential's power of sigmoid function.\n",
    "        Default value is 100.\n",
    "    mu : float, optional\n",
    "        Average for input in low pass filter. Default value is 500.\n",
    "    sigma : float, optional\n",
    "        Standard deviation for input in low pass filter. Default value is 70.\n",
    "    \n",
    "    Returns\n",
    "    -------\n",
    "    out : ndarray\n",
    "        Contrast adjusted, low pass filtered, binarized output image.\n",
    "    \n",
    "    Examples\n",
    "    --------\n",
    "    >>> image = plt.imread('..\\C3-NTG-CFbs_NTG5ECM_1mMRGD_20x_003.tif')\n",
    "    >>> binary = phalloidin_488_binary(image, mu=500, sigma=70, cutoff=0, gain=100)\n",
    "    \n",
    "    \"\"\"\n",
    "    from skimage.exposure import adjust_sigmoid\n",
    "    from skimage.filters import threshold_otsu\n",
    "    \n",
    "    import frequency_filter as ff\n",
    "    \n",
    "    # contrast adjustment\n",
    "    im_con = adjust_sigmoid(im, cutoff=0, gain=100, inv=False)\n",
    "    \n",
    "    # contrast + low pass filter\n",
    "    im_con_lo = ff.frequency_filter(im_con, mu, sigma, passtype='low')\n",
    "    \n",
    "    # contrast + low pass + binary \n",
    "    thresh_lo = threshold_otsu(im_con_lo, nbins=256)\n",
    "    im_con_lo_bin = im_con_lo > thresh_lo\n",
    "    \n",
    "    return im_con_lo_bin"
   ]
  },
  {
   "cell_type": "code",
   "execution_count": null,
   "metadata": {},
   "outputs": [],
   "source": [
    "test = phalloidin_488_binary(im_ch3[12], mu=500, sigma=70, cutoff=0, gain=100)\n",
    "plt.imshow(test)"
   ]
  },
  {
   "cell_type": "code",
   "execution_count": null,
   "metadata": {},
   "outputs": [],
   "source": []
  }
 ],
 "metadata": {
  "kernelspec": {
   "display_name": "Python 3",
   "language": "python",
   "name": "python3"
  },
  "language_info": {
   "codemirror_mode": {
    "name": "ipython",
    "version": 3
   },
   "file_extension": ".py",
   "mimetype": "text/x-python",
   "name": "python",
   "nbconvert_exporter": "python",
   "pygments_lexer": "ipython3",
   "version": "3.7.3"
  }
 },
 "nbformat": 4,
 "nbformat_minor": 4
}
